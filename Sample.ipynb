{
 "cells": [
  {
   "cell_type": "code",
   "execution_count": 13,
   "id": "59639a06-7f3f-4538-8a8b-0dbbe4a8cd0f",
   "metadata": {},
   "outputs": [],
   "source": [
    "_sales = \"select ([WalmartTime].[Day] * [Version].[Version Name].[CurrentWorkingView]  * [Department].[Department_ID].[1] * [Store].[Store_ID] * {Measure.[Weekly Sales]}); \"\n",
    "\n",
    "\n",
    "# Initialize the O9DataLake with the input parameters and dataframes\n",
    "# Data can be accessed with O9DataLake.get(<Input Name>)\n",
    "# Overwritten values will not be reflected in the O9DataLake after initialization\n",
    "\n",
    "from o9_common_utils.O9DataLake import O9DataLake, ResourceType, DataSource\n",
    "O9DataLake.register(\"sales\",DataSource.LS, ResourceType.IBPL, _sales)"
   ]
  },
  {
   "cell_type": "code",
   "execution_count": 14,
   "id": "7e0bbbfe-0e20-4e2d-b9d5-8cb55693c5fa",
   "metadata": {},
   "outputs": [
    {
     "name": "stdout",
     "output_type": "stream",
     "text": [
      "2022-09-20 04:40:11,804 : nitishjha_5502 :WMLogger: Reading Input Dataframes\n",
      "2022-09-20 04:40:11,807 : nitishjha_5502 :IbplClient: WebApi Request Url = [https://mygenieazure.o9solutions.com/api/ibplquery/5502/ExecuteCompactJsonQuery]\n",
      "2022-09-20 04:40:13,016 : nitishjha_5502 :Got invalid status code [504] at WebApi url [https://mygenieazure.o9solutions.com/api/ibplquery/5502/ExecuteCompactJsonQuery], please check url\n",
      "2022-09-20 04:40:13,017 : nitishjha_5502 :IbplClient: WebApi Request Url = [https://mygenieazure.o9solutions.com/api/ibplquery/5502/ExecuteCompactJsonQuery]\n",
      "2022-09-20 04:40:14,197 : nitishjha_5502 :Got invalid status code [504] at WebApi url [https://mygenieazure.o9solutions.com/api/ibplquery/5502/ExecuteCompactJsonQuery], please check url\n",
      "2022-09-20 04:40:14,198 : nitishjha_5502 :Sales:\n"
     ]
    },
    {
     "ename": "AttributeError",
     "evalue": "'NoneType' object has no attribute 'head'",
     "output_type": "error",
     "traceback": [
      "\u001b[0;31m---------------------------------------------------------------------------\u001b[0m",
      "\u001b[0;31mAttributeError\u001b[0m                            Traceback (most recent call last)",
      "\u001b[0;32m<ipython-input-14-6382b0ad0074>\u001b[0m in \u001b[0;36m<module>\u001b[0;34m\u001b[0m\n\u001b[1;32m     13\u001b[0m \u001b[0;34m\u001b[0m\u001b[0m\n\u001b[1;32m     14\u001b[0m \u001b[0mlogger\u001b[0m\u001b[0;34m.\u001b[0m\u001b[0minfo\u001b[0m\u001b[0;34m(\u001b[0m\u001b[0;34m\"Sales:\"\u001b[0m\u001b[0;34m)\u001b[0m\u001b[0;34m\u001b[0m\u001b[0;34m\u001b[0m\u001b[0m\n\u001b[0;32m---> 15\u001b[0;31m \u001b[0mlogger\u001b[0m\u001b[0;34m.\u001b[0m\u001b[0minfo\u001b[0m\u001b[0;34m(\u001b[0m\u001b[0msales_df\u001b[0m\u001b[0;34m.\u001b[0m\u001b[0mhead\u001b[0m\u001b[0;34m(\u001b[0m\u001b[0;34m)\u001b[0m\u001b[0;34m)\u001b[0m\u001b[0;34m\u001b[0m\u001b[0;34m\u001b[0m\u001b[0m\n\u001b[0m\u001b[1;32m     16\u001b[0m \u001b[0;34m\u001b[0m\u001b[0m\n\u001b[1;32m     17\u001b[0m \u001b[0msales_df\u001b[0m\u001b[0;34m[\u001b[0m\u001b[0;34m\"PredictedSales\"\u001b[0m\u001b[0;34m]\u001b[0m \u001b[0;34m=\u001b[0m \u001b[0mnp\u001b[0m\u001b[0;34m.\u001b[0m\u001b[0marange\u001b[0m\u001b[0;34m(\u001b[0m\u001b[0msales_df\u001b[0m\u001b[0;34m.\u001b[0m\u001b[0mshape\u001b[0m\u001b[0;34m[\u001b[0m\u001b[0;36m0\u001b[0m\u001b[0;34m]\u001b[0m\u001b[0;34m)\u001b[0m\u001b[0;34m\u001b[0m\u001b[0;34m\u001b[0m\u001b[0m\n",
      "\u001b[0;31mAttributeError\u001b[0m: 'NoneType' object has no attribute 'head'"
     ]
    }
   ],
   "source": [
    "import os\n",
    "import numpy as np\n",
    "import pandas as pd \n",
    "import logging\n",
    "from o9_common_utils.O9DataLake import O9DataLake\n",
    "# Initializing logger\n",
    "\n",
    "logger = logging.getLogger('o9_logger')\n",
    "logger.info(\"WMLogger: Reading Input Dataframes\")\n",
    "\n",
    "\n",
    "sales_df = O9DataLake.get('sales')\n",
    "\n",
    "logger.info(\"Sales:\")\n",
    "logger.info(sales_df.head())\n",
    "\n",
    "sales_df[\"PredictedSales\"] = np.arange(sales_df.shape[0])\n",
    "\n",
    "output = sales_df.copy(deep=True)\n",
    "output[\"PredictedSales\"] = 0\n",
    "\n",
    "output = output.astype({'PredictedSales':'float64'})\n",
    "\n",
    "logger.info(\"Output:\")\n",
    "logger.info(output.head())\n",
    "O9DataLake.put(\"output\", output)\n",
    "\n",
    "logging.info(\"WMLogger: Finishing Plugin Execution\")"
   ]
  },
  {
   "cell_type": "code",
   "execution_count": null,
   "id": "2ebd7c82-1f5b-40a6-9300-dc1aed55e050",
   "metadata": {},
   "outputs": [],
   "source": []
  }
 ],
 "metadata": {
  "kernelspec": {
   "display_name": "[pyplatformhivetest] Tenant Conda Environment",
   "language": "python",
   "name": "genieaz_pyplatformhivetest"
  },
  "language_info": {
   "codemirror_mode": {
    "name": "ipython",
    "version": 3
   },
   "file_extension": ".py",
   "mimetype": "text/x-python",
   "name": "python",
   "nbconvert_exporter": "python",
   "pygments_lexer": "ipython3",
   "version": "3.7.10"
  }
 },
 "nbformat": 4,
 "nbformat_minor": 5
}
