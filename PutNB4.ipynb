{
 "cells": [
  {
   "cell_type": "code",
   "execution_count": 35,
   "id": "d57dd33b-81cf-42a9-a789-cff8416a7be9",
   "metadata": {},
   "outputs": [],
   "source": [
    "# This cell is NOT editable. Overwrite variables on your own discretion.\n",
    "# Any changes other than the script code will NOT BE SAVED!\n",
    "# All cells are assumed to be script code cells, unless explictly tagged as 'o9_ignore'"
   ]
  },
  {
   "cell_type": "code",
   "execution_count": 36,
   "id": "96a55067-8d94-43ce-94de-7c8fb94f8664",
   "metadata": {},
   "outputs": [],
   "source": [
    "_input = \"Select ([Version].[Version Name] * [Department_Hive].[Department_ID_Hive] ) on row, ({Measure.[SalesVal]}) on column;\""
   ]
  },
  {
   "cell_type": "code",
   "execution_count": 37,
   "id": "52b49b49-dab4-4312-b5cd-988069c08556",
   "metadata": {},
   "outputs": [
    {
     "name": "stdout",
     "output_type": "stream",
     "text": [
      "2023-01-05 09:35:53,173 : nitishjha_6316 :IbplClient: WebApi Request Url = [https://mygenieazure.o9solutions.com/api/ibplquery/6316/ExecuteCompactJsonQuery]\n",
      "2023-01-05 09:35:53,176 : nitishjha_6316 :Starting new HTTPS connection (1): mygenieazure.o9solutions.com:443\n",
      "2023-01-05 09:35:53,263 : nitishjha_6316 :https://mygenieazure.o9solutions.com:443 \"POST /api/ibplquery/6316/ExecuteCompactJsonQuery HTTP/1.1\" 200 None\n",
      "2023-01-05 09:35:58,270 : nitishjha_6316 :IbplClient: WebApi Request Url = [https://mygenieazure.o9solutions.com/api/ibplquery/6316/ExecuteCompactJsonQuery]\n",
      "2023-01-05 09:35:58,273 : nitishjha_6316 :Starting new HTTPS connection (1): mygenieazure.o9solutions.com:443\n",
      "2023-01-05 09:35:58,361 : nitishjha_6316 :https://mygenieazure.o9solutions.com:443 \"POST /api/ibplquery/6316/ExecuteCompactJsonQuery HTTP/1.1\" 200 None\n"
     ]
    }
   ],
   "source": [
    "from o9_common_utils.O9DataLake import O9DataLake, ResourceType, DataSource\n",
    "input1 = O9DataLake.register(\"input1\",DataSource.LS, ResourceType.IBPL, _input)"
   ]
  },
  {
   "cell_type": "code",
   "execution_count": 38,
   "id": "8319d488-cede-4fdd-afb3-2859e757dfd4",
   "metadata": {},
   "outputs": [
    {
     "name": "stdout",
     "output_type": "stream",
     "text": [
      "2023-01-05 09:36:03,379 : nitishjha_6316 :IbplClient: WebApi Request Url = [https://mygenieazure.o9solutions.com/api/ibplquery/6316/ExecuteCompactJsonQuery]\n",
      "2023-01-05 09:36:03,383 : nitishjha_6316 :Starting new HTTPS connection (1): mygenieazure.o9solutions.com:443\n",
      "2023-01-05 09:36:03,490 : nitishjha_6316 :https://mygenieazure.o9solutions.com:443 \"POST /api/ibplquery/6316/ExecuteCompactJsonQuery HTTP/1.1\" 200 None\n",
      "2023-01-05 09:36:08,499 : nitishjha_6316 :IbplClient: WebApi Request Url = [https://mygenieazure.o9solutions.com/api/ibplquery/6316/ExecuteCompactJsonQuery]\n",
      "2023-01-05 09:36:08,502 : nitishjha_6316 :Starting new HTTPS connection (1): mygenieazure.o9solutions.com:443\n",
      "2023-01-05 09:36:08,586 : nitishjha_6316 :https://mygenieazure.o9solutions.com:443 \"POST /api/ibplquery/6316/ExecuteCompactJsonQuery HTTP/1.1\" 200 None\n"
     ]
    }
   ],
   "source": [
    "input1 = O9DataLake.get(\"input1\", input1)\n",
    "input1.head()\n",
    "output = input1.copy(deep=True)"
   ]
  },
  {
   "cell_type": "code",
   "execution_count": 39,
   "id": "d74333c3-4edf-4e64-9c3d-ffa4786badea",
   "metadata": {},
   "outputs": [
    {
     "name": "stdout",
     "output_type": "stream",
     "text": [
      "2023-01-05 09:36:13,610 : nitishjha_6316 :Starting new HTTPS connection (1): mygenieazure.o9solutions.com:443\n",
      "2023-01-05 09:36:13,700 : nitishjha_6316 :https://mygenieazure.o9solutions.com:443 \"GET /api/framework/sessions/session/authToken?authToken=nfdsnrnhqhsl2erhumhdxb4y HTTP/1.1\" 200 None\n",
      "2023-01-05 09:36:13,704 : nitishjha_6316 :Uploading LOCAL file: /tmp/tmp9eg3npek/Fact.output.csv\n",
      "2023-01-05 09:36:13,705 : nitishjha_6316 :Is the file parquet: False\n",
      "2023-01-05 09:36:13,706 : nitishjha_6316 :Uploading /tmp/tmp9eg3npek/Fact.output.csv to Live Server cloud\n",
      "2023-01-05 09:36:13,706 : nitishjha_6316 :File size less than 256 MB\n",
      "2023-01-05 09:36:13,707 : nitishjha_6316 :Uploading to /fileUpload endpoint\n",
      "2023-01-05 09:36:13,708 : nitishjha_6316 :Uploading /tmp/tmp9eg3npek/Fact.output.csv to Live Server cloud\n",
      "2023-01-05 09:36:13,711 : nitishjha_6316 :Starting new HTTPS connection (1): mygenieazure.o9solutions.com:443\n",
      "2023-01-05 09:36:16,038 : nitishjha_6316 :https://mygenieazure.o9solutions.com:443 \"POST /api/upload/fileUpload HTTP/1.1\" 200 None\n",
      "2023-01-05 09:36:16,041 : nitishjha_6316 :Uploaded the file successfully\n",
      "2023-01-05 09:36:16,042 : nitishjha_6316 :Uploading cloud files at: \"azure://7YcJ7Xd5iUl7rbT6sGwXZyZFjgAz2pZjpyGjgqX2Aft-YPbUMcDHX5ei0q3MqrWD0\"\n",
      "2023-01-05 09:36:16,043 : nitishjha_6316 :IbplClient: WebApi Request Url = [https://mygenieazure.o9solutions.com/api/framework/sessions/session]\n",
      "2023-01-05 09:36:16,046 : nitishjha_6316 :Starting new HTTPS connection (1): mygenieazure.o9solutions.com:443\n",
      "2023-01-05 09:36:16,182 : nitishjha_6316 :https://mygenieazure.o9solutions.com:443 \"GET /api/framework/sessions/session HTTP/1.1\" 200 None\n",
      "2023-01-05 09:36:16,186 : nitishjha_6316 :logged into tenant HIveDemo52 successfully\n",
      "2023-01-05 09:36:16,187 : nitishjha_6316 :IbplClient: WebApi Request Url = [https://mygenieazure.o9solutions.com/api/user]\n",
      "2023-01-05 09:36:16,190 : nitishjha_6316 :Starting new HTTPS connection (1): mygenieazure.o9solutions.com:443\n",
      "2023-01-05 09:36:16,432 : nitishjha_6316 :https://mygenieazure.o9solutions.com:443 \"GET /api/user HTTP/1.1\" 200 None\n",
      "2023-01-05 09:36:16,438 : nitishjha_6316 :Starting new HTTPS connection (1): mygenieazure.o9solutions.com:443\n",
      "2023-01-05 09:36:16,549 : nitishjha_6316 :https://mygenieazure.o9solutions.com:443 \"GET /api/framework/sessions/session/authToken?authToken=nfdsnrnhqhsl2erhumhdxb4y HTTP/1.1\" 200 None\n",
      "2023-01-05 09:36:16,554 : nitishjha_6316 :Starting new HTTPS connection (1): mygenieazure.o9solutions.com:443\n",
      "2023-01-05 09:36:19,027 : nitishjha_6316 :https://mygenieazure.o9solutions.com:443 \"POST /api/ibplquery/6316/ExecuteQuery HTTP/1.1\" 200 None\n",
      "2023-01-05 09:36:19,030 : nitishjha_6316 :200, OK\n",
      "2023-01-05 09:36:19,031 : nitishjha_6316 :Response json:\n",
      "{\"Result\":\"[{\\\"FileName\\\":\\\"Fact.output.csv\\\",\\\"SheetName\\\":\\\"Fact.output.csv\\\",\\\"TotalRows\\\":1,\\\"ProcessedRows\\\":1,\\\"Status\\\":\\\"Success\\\",\\\"Messages\\\":[\\\"Total Rows: [1]. Successfully Processed Rows: [1].\\\"],\\\"FileId\\\":\\\"azure://7YcJ7Xd5iUl7rbT6sGwXZyZFjgAz2pZjpyGjgqX2Aft-YPbUMcDHX5ei0q3MqrWD0\\\"}]\",\"QueryGuid\":\"022b48ed-cc93-4334-87e4-41a80c336442\",\"ImpactHeader\":{\"TenantId\":6316,\"TransactionId\":\"00000000-0000-0000-0000-000000000000\",\"UpdatedMembers\":null,\"CreatedMembers\":null,\"DeletedMembers\":null,\"ModelImpact\":{\"Sales Plan\":{\"TempMG\":[\"SalesVal\"]}}}}\n",
      "2023-01-05 09:36:19,032 : nitishjha_6316 :{'FileName': 'Fact.output.csv', 'SheetName': 'Fact.output.csv', 'TotalRows': 1, 'ProcessedRows': 1, 'Status': 'Success', 'Messages': ['Total Rows: [1]. Successfully Processed Rows: [1].'], 'FileId': 'azure://7YcJ7Xd5iUl7rbT6sGwXZyZFjgAz2pZjpyGjgqX2Aft-YPbUMcDHX5ei0q3MqrWD0'}\n"
     ]
    }
   ],
   "source": [
    "output[\"SalesVal\"] = 15\n",
    "\n",
    "O9DataLake.put(\"output\", output)"
   ]
  },
  {
   "cell_type": "code",
   "execution_count": null,
   "id": "c3d87957-91e8-4f78-aec4-8bf65f97001a",
   "metadata": {},
   "outputs": [],
   "source": []
  }
 ],
 "metadata": {
  "kernelspec": {
   "display_name": "[HIveDemo52] Tenant Conda Environment",
   "language": "python",
   "name": "genieaz_hivedemo52"
  },
  "language_info": {
   "codemirror_mode": {
    "name": "ipython",
    "version": 3
   },
   "file_extension": ".py",
   "mimetype": "text/x-python",
   "name": "python",
   "nbconvert_exporter": "python",
   "pygments_lexer": "ipython3",
   "version": "3.7.10"
  }
 },
 "nbformat": 4,
 "nbformat_minor": 5
}
