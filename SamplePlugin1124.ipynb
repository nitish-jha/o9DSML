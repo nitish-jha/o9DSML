{
 "cells": [
  {
   "cell_type": "code",
   "execution_count": 1,
   "id": "9dd7e064-47cb-4b5d-b983-7f74d73ef18c",
   "metadata": {},
   "outputs": [
    {
     "name": "stdout",
     "output_type": "stream",
     "text": [
      "INFO:root:IbplClient: WebApi Request Url = [https://mygenieazure.o9solutions.com/api/ibplquery/6324/ExecuteCompactJsonQuery]\n",
      "DEBUG:urllib3.connectionpool:Starting new HTTPS connection (1): mygenieazure.o9solutions.com:443\n",
      "DEBUG:urllib3.connectionpool:https://mygenieazure.o9solutions.com:443 \"POST /api/ibplquery/6324/ExecuteCompactJsonQuery HTTP/1.1\" 200 None\n",
      "INFO:root:IbplClient: WebApi Request Url = [https://mygenieazure.o9solutions.com/api/ibplquery/6324/ExecuteCompactJsonQuery]\n",
      "DEBUG:urllib3.connectionpool:Starting new HTTPS connection (1): mygenieazure.o9solutions.com:443\n",
      "DEBUG:urllib3.connectionpool:https://mygenieazure.o9solutions.com:443 \"POST /api/ibplquery/6324/ExecuteCompactJsonQuery HTTP/1.1\" 200 None\n"
     ]
    }
   ],
   "source": [
    "_sales = \"Select ([Department].[Department_ID] * [Store].[Store_ID] * [Time].[Day] * [Version].[Version Name] ) on row, ({Measure.[Weekly Sales]}) on column limit 10;\"\n",
    "\n",
    "from o9_common_utils.O9DataLake import O9DataLake, ResourceType, DataSource\n",
    "sales = O9DataLake.register(\"sales\",DataSource.LS, ResourceType.IBPL, _sales)"
   ]
  },
  {
   "cell_type": "code",
   "execution_count": 2,
   "id": "daeceab6-01a0-4593-a06c-c4b397e81bd6",
   "metadata": {},
   "outputs": [
    {
     "name": "stdout",
     "output_type": "stream",
     "text": [
      "INFO:root:IbplClient: WebApi Request Url = [https://mygenieazure.o9solutions.com/api/ibplquery/6324/ExecuteCompactJsonQuery]\n",
      "DEBUG:urllib3.connectionpool:Starting new HTTPS connection (1): mygenieazure.o9solutions.com:443\n",
      "DEBUG:urllib3.connectionpool:https://mygenieazure.o9solutions.com:443 \"POST /api/ibplquery/6324/ExecuteCompactJsonQuery HTTP/1.1\" 200 None\n",
      "INFO:root:IbplClient: WebApi Request Url = [https://mygenieazure.o9solutions.com/api/ibplquery/6324/ExecuteCompactJsonQuery]\n",
      "DEBUG:urllib3.connectionpool:Starting new HTTPS connection (1): mygenieazure.o9solutions.com:443\n",
      "DEBUG:urllib3.connectionpool:https://mygenieazure.o9solutions.com:443 \"POST /api/ibplquery/6324/ExecuteCompactJsonQuery HTTP/1.1\" 200 None\n"
     ]
    },
    {
     "data": {
      "text/html": [
       "<div>\n",
       "<style scoped>\n",
       "    .dataframe tbody tr th:only-of-type {\n",
       "        vertical-align: middle;\n",
       "    }\n",
       "\n",
       "    .dataframe tbody tr th {\n",
       "        vertical-align: top;\n",
       "    }\n",
       "\n",
       "    .dataframe thead th {\n",
       "        text-align: right;\n",
       "    }\n",
       "</style>\n",
       "<table border=\"1\" class=\"dataframe\">\n",
       "  <thead>\n",
       "    <tr style=\"text-align: right;\">\n",
       "      <th></th>\n",
       "      <th>Department.[Department_ID]</th>\n",
       "      <th>Store.[Store_ID]</th>\n",
       "      <th>Time.[Day]</th>\n",
       "      <th>Version.[Version Name]</th>\n",
       "      <th>Weekly Sales</th>\n",
       "    </tr>\n",
       "  </thead>\n",
       "  <tbody>\n",
       "    <tr>\n",
       "      <th>0</th>\n",
       "      <td>10</td>\n",
       "      <td>1</td>\n",
       "      <td>11/11/2011</td>\n",
       "      <td>CurrentWorkingView</td>\n",
       "      <td>32346.539062</td>\n",
       "    </tr>\n",
       "    <tr>\n",
       "      <th>1</th>\n",
       "      <td>11</td>\n",
       "      <td>1</td>\n",
       "      <td>11/11/2011</td>\n",
       "      <td>CurrentWorkingView</td>\n",
       "      <td>23541.720703</td>\n",
       "    </tr>\n",
       "    <tr>\n",
       "      <th>2</th>\n",
       "      <td>13</td>\n",
       "      <td>1</td>\n",
       "      <td>11/11/2011</td>\n",
       "      <td>CurrentWorkingView</td>\n",
       "      <td>37255.890625</td>\n",
       "    </tr>\n",
       "    <tr>\n",
       "      <th>3</th>\n",
       "      <td>14</td>\n",
       "      <td>1</td>\n",
       "      <td>11/11/2011</td>\n",
       "      <td>CurrentWorkingView</td>\n",
       "      <td>14903.780273</td>\n",
       "    </tr>\n",
       "    <tr>\n",
       "      <th>4</th>\n",
       "      <td>16</td>\n",
       "      <td>1</td>\n",
       "      <td>11/11/2011</td>\n",
       "      <td>CurrentWorkingView</td>\n",
       "      <td>5913.029785</td>\n",
       "    </tr>\n",
       "  </tbody>\n",
       "</table>\n",
       "</div>"
      ],
      "text/plain": [
       "  Department.[Department_ID] Store.[Store_ID]  Time.[Day]  \\\n",
       "0                         10                1  11/11/2011   \n",
       "1                         11                1  11/11/2011   \n",
       "2                         13                1  11/11/2011   \n",
       "3                         14                1  11/11/2011   \n",
       "4                         16                1  11/11/2011   \n",
       "\n",
       "  Version.[Version Name]  Weekly Sales  \n",
       "0     CurrentWorkingView  32346.539062  \n",
       "1     CurrentWorkingView  23541.720703  \n",
       "2     CurrentWorkingView  37255.890625  \n",
       "3     CurrentWorkingView  14903.780273  \n",
       "4     CurrentWorkingView   5913.029785  "
      ]
     },
     "execution_count": 2,
     "metadata": {},
     "output_type": "execute_result"
    }
   ],
   "source": [
    "sales = O9DataLake.get(\"sales\")\n",
    "sales.head()"
   ]
  },
  {
   "cell_type": "code",
   "execution_count": 3,
   "id": "34a05306-ec3f-4fa9-b94e-38e5aa3603c5",
   "metadata": {},
   "outputs": [
    {
     "data": {
      "text/html": [
       "<div>\n",
       "<style scoped>\n",
       "    .dataframe tbody tr th:only-of-type {\n",
       "        vertical-align: middle;\n",
       "    }\n",
       "\n",
       "    .dataframe tbody tr th {\n",
       "        vertical-align: top;\n",
       "    }\n",
       "\n",
       "    .dataframe thead th {\n",
       "        text-align: right;\n",
       "    }\n",
       "</style>\n",
       "<table border=\"1\" class=\"dataframe\">\n",
       "  <thead>\n",
       "    <tr style=\"text-align: right;\">\n",
       "      <th></th>\n",
       "      <th>Department.[Department_ID]</th>\n",
       "      <th>Store.[Store_ID]</th>\n",
       "      <th>Time.[Day]</th>\n",
       "      <th>Version.[Version Name]</th>\n",
       "      <th>Fcst</th>\n",
       "    </tr>\n",
       "  </thead>\n",
       "  <tbody>\n",
       "    <tr>\n",
       "      <th>0</th>\n",
       "      <td>10</td>\n",
       "      <td>1</td>\n",
       "      <td>11/11/2011</td>\n",
       "      <td>CurrentWorkingView</td>\n",
       "      <td>3234.653809</td>\n",
       "    </tr>\n",
       "    <tr>\n",
       "      <th>1</th>\n",
       "      <td>11</td>\n",
       "      <td>1</td>\n",
       "      <td>11/11/2011</td>\n",
       "      <td>CurrentWorkingView</td>\n",
       "      <td>2354.172119</td>\n",
       "    </tr>\n",
       "    <tr>\n",
       "      <th>2</th>\n",
       "      <td>13</td>\n",
       "      <td>1</td>\n",
       "      <td>11/11/2011</td>\n",
       "      <td>CurrentWorkingView</td>\n",
       "      <td>3725.589111</td>\n",
       "    </tr>\n",
       "    <tr>\n",
       "      <th>3</th>\n",
       "      <td>14</td>\n",
       "      <td>1</td>\n",
       "      <td>11/11/2011</td>\n",
       "      <td>CurrentWorkingView</td>\n",
       "      <td>1490.378052</td>\n",
       "    </tr>\n",
       "    <tr>\n",
       "      <th>4</th>\n",
       "      <td>16</td>\n",
       "      <td>1</td>\n",
       "      <td>11/11/2011</td>\n",
       "      <td>CurrentWorkingView</td>\n",
       "      <td>591.302979</td>\n",
       "    </tr>\n",
       "  </tbody>\n",
       "</table>\n",
       "</div>"
      ],
      "text/plain": [
       "  Department.[Department_ID] Store.[Store_ID]  Time.[Day]  \\\n",
       "0                         10                1  11/11/2011   \n",
       "1                         11                1  11/11/2011   \n",
       "2                         13                1  11/11/2011   \n",
       "3                         14                1  11/11/2011   \n",
       "4                         16                1  11/11/2011   \n",
       "\n",
       "  Version.[Version Name]         Fcst  \n",
       "0     CurrentWorkingView  3234.653809  \n",
       "1     CurrentWorkingView  2354.172119  \n",
       "2     CurrentWorkingView  3725.589111  \n",
       "3     CurrentWorkingView  1490.378052  \n",
       "4     CurrentWorkingView   591.302979  "
      ]
     },
     "execution_count": 3,
     "metadata": {},
     "output_type": "execute_result"
    }
   ],
   "source": [
    "output = sales\n",
    "output[\"Fcst\"] = sales[\"Weekly Sales\"]/10\n",
    "output.drop(columns=[\"Weekly Sales\"], inplace=True)\n",
    "output.head()"
   ]
  },
  {
   "cell_type": "code",
   "execution_count": 4,
   "id": "47e6cc85-bab7-4367-bd03-b41f1aca2d0a",
   "metadata": {},
   "outputs": [],
   "source": [
    "O9DataLake.put(\"output\", output)"
   ]
  },
  {
   "cell_type": "code",
   "execution_count": null,
   "id": "f6af48a0-e958-4b50-8db1-3d3cc6b0d863",
   "metadata": {},
   "outputs": [],
   "source": []
  }
 ],
 "metadata": {
  "kernelspec": {
   "display_name": "[HiveDemo85] Tenant Conda Environment",
   "language": "python",
   "name": "genieaz_hivedemo85"
  },
  "language_info": {
   "codemirror_mode": {
    "name": "ipython",
    "version": 3
   },
   "file_extension": ".py",
   "mimetype": "text/x-python",
   "name": "python",
   "nbconvert_exporter": "python",
   "pygments_lexer": "ipython3",
   "version": "3.7.10"
  }
 },
 "nbformat": 4,
 "nbformat_minor": 5
}
