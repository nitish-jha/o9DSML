{
 "cells": [
  {
   "cell_type": "code",
   "execution_count": 12,
   "id": "96a55067-8d94-43ce-94de-7c8fb94f8664",
   "metadata": {},
   "outputs": [],
   "source": [
    "_sales = \"Select ([Version].[Version Name] * [Department_Hive].[Department_ID_Hive] ) on row, ({Measure.[SalesVal]}) on column;\""
   ]
  },
  {
   "cell_type": "code",
   "execution_count": 13,
   "id": "52b49b49-dab4-4312-b5cd-988069c08556",
   "metadata": {},
   "outputs": [
    {
     "name": "stdout",
     "output_type": "stream",
     "text": [
      "2023-01-03 14:53:50,903 : nitishjha_6316 :IbplClient: WebApi Request Url = [https://mygenieazure.o9solutions.com/api/ibplquery/6316/ExecuteCompactJsonQuery]\n",
      "2023-01-03 14:53:50,907 : nitishjha_6316 :Starting new HTTPS connection (1): mygenieazure.o9solutions.com:443\n",
      "2023-01-03 14:53:51,108 : nitishjha_6316 :https://mygenieazure.o9solutions.com:443 \"POST /api/ibplquery/6316/ExecuteCompactJsonQuery HTTP/1.1\" 400 446\n",
      "2023-01-03 14:53:51,111 : nitishjha_6316 :{'ModelValidationErrors': [\"Query Execution Failed with the following Errors:\\n9: line 1:74 at [@13,74:74='u',<337>,1:74]: no viable alternative at input '(Select ([Version].[Version Name] * [Department_Hive].[Department_ID_Hive]u'\\r\\n6: Index was out of range. Must be non-negative and less than the size of the collection.\\r\\nParameter name: index\\r\\n\"], 'FieldValidationErrors': {}}\n"
     ]
    }
   ],
   "source": [
    "from o9_common_utils.O9DataLake import O9DataLake, ResourceType, DataSource\n",
    "sales = O9DataLake.register(\"sales\",DataSource.LS, ResourceType.IBPL, _sales)"
   ]
  },
  {
   "cell_type": "code",
   "execution_count": 14,
   "id": "8319d488-cede-4fdd-afb3-2859e757dfd4",
   "metadata": {},
   "outputs": [
    {
     "name": "stdout",
     "output_type": "stream",
     "text": [
      "2023-01-03 14:54:03,242 : nitishjha_6316 :IbplClient: WebApi Request Url = [https://mygenieazure.o9solutions.com/api/ibplquery/6316/ExecuteCompactJsonQuery]\n",
      "2023-01-03 14:54:03,245 : nitishjha_6316 :Starting new HTTPS connection (1): mygenieazure.o9solutions.com:443\n",
      "2023-01-03 14:54:03,379 : nitishjha_6316 :https://mygenieazure.o9solutions.com:443 \"POST /api/ibplquery/6316/ExecuteCompactJsonQuery HTTP/1.1\" 400 446\n",
      "2023-01-03 14:54:03,382 : nitishjha_6316 :{'ModelValidationErrors': [\"Query Execution Failed with the following Errors:\\n9: line 1:74 at [@13,74:74='u',<337>,1:74]: no viable alternative at input '(Select ([Version].[Version Name] * [Department_Hive].[Department_ID_Hive]u'\\r\\n6: Index was out of range. Must be non-negative and less than the size of the collection.\\r\\nParameter name: index\\r\\n\"], 'FieldValidationErrors': {}}\n"
     ]
    },
    {
     "ename": "AttributeError",
     "evalue": "'NoneType' object has no attribute 'head'",
     "output_type": "error",
     "traceback": [
      "\u001b[0;31m---------------------------------------------------------------------------\u001b[0m",
      "\u001b[0;31mAttributeError\u001b[0m                            Traceback (most recent call last)",
      "\u001b[0;32m<ipython-input-14-f66ca4829fa7>\u001b[0m in \u001b[0;36m<module>\u001b[0;34m\u001b[0m\n\u001b[1;32m      1\u001b[0m \u001b[0msales\u001b[0m \u001b[0;34m=\u001b[0m \u001b[0mO9DataLake\u001b[0m\u001b[0;34m.\u001b[0m\u001b[0mget\u001b[0m\u001b[0;34m(\u001b[0m\u001b[0;34m\"sales\"\u001b[0m\u001b[0;34m,\u001b[0m \u001b[0msales\u001b[0m\u001b[0;34m)\u001b[0m\u001b[0;34m\u001b[0m\u001b[0;34m\u001b[0m\u001b[0m\n\u001b[0;32m----> 2\u001b[0;31m \u001b[0msales\u001b[0m\u001b[0;34m.\u001b[0m\u001b[0mhead\u001b[0m\u001b[0;34m(\u001b[0m\u001b[0;34m)\u001b[0m\u001b[0;34m\u001b[0m\u001b[0;34m\u001b[0m\u001b[0m\n\u001b[0m",
      "\u001b[0;31mAttributeError\u001b[0m: 'NoneType' object has no attribute 'head'"
     ]
    }
   ],
   "source": [
    "sales = O9DataLake.get(\"sales\", sales)\n",
    "sales.head()"
   ]
  },
  {
   "cell_type": "code",
   "execution_count": 6,
   "id": "d74333c3-4edf-4e64-9c3d-ffa4786badea",
   "metadata": {},
   "outputs": [
    {
     "name": "stdout",
     "output_type": "stream",
     "text": [
      "2023-01-03 13:55:28,906 : nitishjha_6316 :Starting new HTTPS connection (1): mygenieazure.o9solutions.com:443\n",
      "2023-01-03 13:55:29,026 : nitishjha_6316 :https://mygenieazure.o9solutions.com:443 \"GET /api/framework/sessions/session/authToken?authToken=nfdsnrnhqhsl2erhumhdxb4y HTTP/1.1\" 200 None\n",
      "2023-01-03 13:55:29,029 : nitishjha_6316 :Uploading LOCAL file: /tmp/tmptf84_ren/Fact.sales.csv\n",
      "2023-01-03 13:55:29,031 : nitishjha_6316 :Is the file parquet: False\n",
      "2023-01-03 13:55:29,032 : nitishjha_6316 :Uploading /tmp/tmptf84_ren/Fact.sales.csv to Live Server cloud\n",
      "2023-01-03 13:55:29,033 : nitishjha_6316 :File size less than 256 MB\n",
      "2023-01-03 13:55:29,033 : nitishjha_6316 :Uploading to /fileUpload endpoint\n",
      "2023-01-03 13:55:29,035 : nitishjha_6316 :Uploading /tmp/tmptf84_ren/Fact.sales.csv to Live Server cloud\n",
      "2023-01-03 13:55:29,038 : nitishjha_6316 :Starting new HTTPS connection (1): mygenieazure.o9solutions.com:443\n",
      "2023-01-03 13:55:31,330 : nitishjha_6316 :https://mygenieazure.o9solutions.com:443 \"POST /api/upload/fileUpload HTTP/1.1\" 200 None\n",
      "2023-01-03 13:55:31,333 : nitishjha_6316 :Uploaded the file successfully\n",
      "2023-01-03 13:55:31,335 : nitishjha_6316 :Uploading cloud files at: \"azure://7YcJ7Xd5iUl7rbT6sGwXZyZFjgAz2pZjpyGjgqX2AfvNyn-TXSx-QxSzlYDO_21w0\"\n",
      "2023-01-03 13:55:31,336 : nitishjha_6316 :IbplClient: WebApi Request Url = [https://mygenieazure.o9solutions.com/api/framework/sessions/session]\n",
      "2023-01-03 13:55:31,340 : nitishjha_6316 :Starting new HTTPS connection (1): mygenieazure.o9solutions.com:443\n",
      "2023-01-03 13:55:31,453 : nitishjha_6316 :https://mygenieazure.o9solutions.com:443 \"GET /api/framework/sessions/session HTTP/1.1\" 200 None\n",
      "2023-01-03 13:55:31,457 : nitishjha_6316 :logged into tenant HIveDemo52 successfully\n",
      "2023-01-03 13:55:31,458 : nitishjha_6316 :IbplClient: WebApi Request Url = [https://mygenieazure.o9solutions.com/api/user]\n",
      "2023-01-03 13:55:31,460 : nitishjha_6316 :Starting new HTTPS connection (1): mygenieazure.o9solutions.com:443\n",
      "2023-01-03 13:55:31,693 : nitishjha_6316 :https://mygenieazure.o9solutions.com:443 \"GET /api/user HTTP/1.1\" 200 None\n",
      "2023-01-03 13:55:31,699 : nitishjha_6316 :Starting new HTTPS connection (1): mygenieazure.o9solutions.com:443\n",
      "2023-01-03 13:55:31,791 : nitishjha_6316 :https://mygenieazure.o9solutions.com:443 \"GET /api/framework/sessions/session/authToken?authToken=nfdsnrnhqhsl2erhumhdxb4y HTTP/1.1\" 200 None\n",
      "2023-01-03 13:55:31,796 : nitishjha_6316 :Starting new HTTPS connection (1): mygenieazure.o9solutions.com:443\n",
      "2023-01-03 13:55:34,689 : nitishjha_6316 :https://mygenieazure.o9solutions.com:443 \"POST /api/ibplquery/6316/ExecuteQuery HTTP/1.1\" 200 None\n",
      "2023-01-03 13:55:34,693 : nitishjha_6316 :200, OK\n",
      "2023-01-03 13:55:34,695 : nitishjha_6316 :Response json:\n",
      "{\"Result\":\"[{\\\"FileName\\\":\\\"Fact.sales.csv\\\",\\\"SheetName\\\":\\\"Fact.sales.csv\\\",\\\"TotalRows\\\":1,\\\"ProcessedRows\\\":1,\\\"Status\\\":\\\"Success\\\",\\\"Messages\\\":[\\\"Total Rows: [1]. Successfully Processed Rows: [1].\\\"],\\\"FileId\\\":\\\"azure://7YcJ7Xd5iUl7rbT6sGwXZyZFjgAz2pZjpyGjgqX2AfvNyn-TXSx-QxSzlYDO_21w0\\\"}]\",\"QueryGuid\":\"3df76134-7c59-4481-ae52-a326d2c53926\",\"ImpactHeader\":{\"TenantId\":6316,\"TransactionId\":\"00000000-0000-0000-0000-000000000000\",\"UpdatedMembers\":null,\"CreatedMembers\":null,\"DeletedMembers\":null,\"ModelImpact\":{\"Sales Plan\":{\"TempMG\":[\"SalesVal\"]}}}}\n",
      "2023-01-03 13:55:34,696 : nitishjha_6316 :{'FileName': 'Fact.sales.csv', 'SheetName': 'Fact.sales.csv', 'TotalRows': 1, 'ProcessedRows': 1, 'Status': 'Success', 'Messages': ['Total Rows: [1]. Successfully Processed Rows: [1].'], 'FileId': 'azure://7YcJ7Xd5iUl7rbT6sGwXZyZFjgAz2pZjpyGjgqX2AfvNyn-TXSx-QxSzlYDO_21w0'}\n"
     ]
    }
   ],
   "source": [
    "sales[\"SalesVal\"] = 15\n",
    "O9DataLake.put(\"sales\", sales)"
   ]
  },
  {
   "cell_type": "code",
   "execution_count": null,
   "id": "c3d87957-91e8-4f78-aec4-8bf65f97001a",
   "metadata": {},
   "outputs": [],
   "source": []
  }
 ],
 "metadata": {
  "kernelspec": {
   "display_name": "[HIveDemo52] Tenant Conda Environment",
   "language": "python",
   "name": "genieaz_hivedemo52"
  },
  "language_info": {
   "codemirror_mode": {
    "name": "ipython",
    "version": 3
   },
   "file_extension": ".py",
   "mimetype": "text/x-python",
   "name": "python",
   "nbconvert_exporter": "python",
   "pygments_lexer": "ipython3",
   "version": "3.7.10"
  }
 },
 "nbformat": 4,
 "nbformat_minor": 5
}
