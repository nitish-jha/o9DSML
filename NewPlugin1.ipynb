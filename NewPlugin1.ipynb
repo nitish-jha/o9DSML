{
 "cells": [
  {
   "cell_type": "code",
   "execution_count": 6,
   "id": "070d3435-247b-45f5-adfe-b519ed6bbbf8",
   "metadata": {},
   "outputs": [],
   "source": [
    "_sales = \"select ([WalmartTime].[Day] * [Version].[Version Name].[CurrentWorkingView]  * [Department].[Department_ID].[1] * [Store].[Store_ID] * {Measure.[Weekly Sales]}  );\"\n",
    "\n",
    "\n",
    "# Initialize the O9DataLake with the input parameters and dataframes\n",
    "# Data can be accessed with O9DataLake.get(<Input Name>)\n",
    "# Overwritten values will not be reflected in the O9DataLake after initialization\n",
    "\n",
    "from o9_common_utils.O9DataLake import O9DataLake, ResourceType, DataSource\n",
    "O9DataLake.register(\"sales\",DataSource.LS, ResourceType.IBPL, _sales)"
   ]
  },
  {
   "cell_type": "code",
   "execution_count": 7,
   "id": "ee7626a1-9781-41c5-b22f-d22d8501fbe6",
   "metadata": {},
   "outputs": [
    {
     "name": "stdout",
     "output_type": "stream",
     "text": [
      "2022-09-22 08:47:19,835 : nitishjha_5502 :WMLogger: Reading Input Dataframes\n",
      "2022-09-22 08:47:19,837 : nitishjha_5502 :IbplClient: WebApi Request Url = [https://mygenieazure.o9solutions.com/api/ibplquery/5502/ExecuteCompactJsonQuery]\n",
      "2022-09-22 08:47:20,074 : nitishjha_5502 :Sales:\n",
      "2022-09-22 08:47:20,075 : nitishjha_5502 :  WalmartTime.[Day] Version.[Version Name] Department.[Department_ID]  \\\n",
      "0        02-05-2010     CurrentWorkingView                          1   \n",
      "1        02-05-2010     CurrentWorkingView                          1   \n",
      "2        02-05-2010     CurrentWorkingView                          1   \n",
      "3        02-05-2010     CurrentWorkingView                          1   \n",
      "4        02-05-2010     CurrentWorkingView                          1   \n",
      "\n",
      "  Store.[Store_ID]  Weekly Sales  \n",
      "0                1  24924.500000  \n",
      "1               10  40212.839844  \n",
      "2               11  19611.130859  \n",
      "3               12  17426.750000  \n",
      "4               13  46761.898438  \n",
      "2022-09-22 08:47:20,086 : nitishjha_5502 :Output:\n",
      "2022-09-22 08:47:20,088 : nitishjha_5502 :  WalmartTime.[Day] Version.[Version Name] Department.[Department_ID]  \\\n",
      "0        02-05-2010     CurrentWorkingView                          1   \n",
      "1        02-05-2010     CurrentWorkingView                          1   \n",
      "2        02-05-2010     CurrentWorkingView                          1   \n",
      "3        02-05-2010     CurrentWorkingView                          1   \n",
      "4        02-05-2010     CurrentWorkingView                          1   \n",
      "\n",
      "  Store.[Store_ID]  Weekly Sales  PredictedSales  \n",
      "0                1  24924.500000             0.0  \n",
      "1               10  40212.839844             0.0  \n",
      "2               11  19611.130859             0.0  \n",
      "3               12  17426.750000             0.0  \n",
      "4               13  46761.898438             0.0  \n"
     ]
    }
   ],
   "source": [
    "import os\n",
    "import numpy as np\n",
    "import pandas as pd \n",
    "import logging\n",
    "from o9_common_utils.O9DataLake import O9DataLake\n",
    "# Initializing logger\n",
    "\n",
    "logger = logging.getLogger('o9_logger')\n",
    "logger.info(\"WMLogger: Reading Input Dataframes\")\n",
    "\n",
    "\n",
    "sales_df = O9DataLake.get('sales')\n",
    "\n",
    "logger.info(\"Sales:\")\n",
    "logger.info(sales_df.head())\n",
    "\n",
    "sales_df[\"PredictedSales\"] = np.arange(sales_df.shape[0])\n",
    "\n",
    "output = sales_df.copy(deep=True)\n",
    "output[\"PredictedSales\"] = 0\n",
    "\n",
    "output = output.astype({'PredictedSales':'float64'})\n",
    "\n",
    "logger.info(\"Output:\")\n",
    "logger.info(output.head())\n",
    "O9DataLake.put(\"output\", output)"
   ]
  },
  {
   "cell_type": "code",
   "execution_count": 8,
   "id": "d2990c5c-77e8-4b96-b805-b338a3f567f7",
   "metadata": {},
   "outputs": [
    {
     "name": "stdout",
     "output_type": "stream",
     "text": [
      "2022-09-22 08:47:22,890 : nitishjha_5502 :WMLogger: Finishing Plugin Execution\n"
     ]
    }
   ],
   "source": [
    "logging.info(\"WMLogger: Finishing Plugin Execution\")"
   ]
  },
  {
   "cell_type": "code",
   "execution_count": null,
   "id": "7eda9137-9cf7-4b95-a3f6-141e30b07960",
   "metadata": {},
   "outputs": [],
   "source": []
  }
 ],
 "metadata": {
  "kernelspec": {
   "display_name": "[pyplatformhivetest] Tenant Conda Environment",
   "language": "python",
   "name": "genieaz_pyplatformhivetest"
  },
  "language_info": {
   "codemirror_mode": {
    "name": "ipython",
    "version": 3
   },
   "file_extension": ".py",
   "mimetype": "text/x-python",
   "name": "python",
   "nbconvert_exporter": "python",
   "pygments_lexer": "ipython3",
   "version": "3.7.10"
  }
 },
 "nbformat": 4,
 "nbformat_minor": 5
}
