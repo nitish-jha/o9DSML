{
 "cells": [
  {
   "cell_type": "code",
   "execution_count": 19,
   "id": "d57dd33b-81cf-42a9-a789-cff8416a7be9",
   "metadata": {},
   "outputs": [],
   "source": [
    "# This cell is NOT editable. Overwrite variables on your own discretion.\n",
    "# Any changes other than the script code will NOT BE SAVED!\n",
    "# All cells are assumed to be script code cells, unless explictly tagged as 'o9_ignore'"
   ]
  },
  {
   "cell_type": "code",
   "execution_count": 20,
   "id": "96a55067-8d94-43ce-94de-7c8fb94f8664",
   "metadata": {},
   "outputs": [],
   "source": [
    "_sales = \"Select ([Version].[Version Name] * [Department_Hive].[Department_ID_Hive] ) on row, ({Measure.[SalesVal]}) on column;\""
   ]
  },
  {
   "cell_type": "code",
   "execution_count": 21,
   "id": "52b49b49-dab4-4312-b5cd-988069c08556",
   "metadata": {},
   "outputs": [
    {
     "name": "stdout",
     "output_type": "stream",
     "text": [
      "2023-01-05 08:50:48,274 : nitishjha_6316 :IbplClient: WebApi Request Url = [https://mygenieazure.o9solutions.com/api/ibplquery/6316/ExecuteCompactJsonQuery]\n",
      "2023-01-05 08:50:48,278 : nitishjha_6316 :Starting new HTTPS connection (1): mygenieazure.o9solutions.com:443\n",
      "2023-01-05 08:50:48,376 : nitishjha_6316 :https://mygenieazure.o9solutions.com:443 \"POST /api/ibplquery/6316/ExecuteCompactJsonQuery HTTP/1.1\" 200 None\n",
      "2023-01-05 08:50:53,385 : nitishjha_6316 :IbplClient: WebApi Request Url = [https://mygenieazure.o9solutions.com/api/ibplquery/6316/ExecuteCompactJsonQuery]\n",
      "2023-01-05 08:50:53,389 : nitishjha_6316 :Starting new HTTPS connection (1): mygenieazure.o9solutions.com:443\n",
      "2023-01-05 08:50:53,484 : nitishjha_6316 :https://mygenieazure.o9solutions.com:443 \"POST /api/ibplquery/6316/ExecuteCompactJsonQuery HTTP/1.1\" 200 None\n"
     ]
    }
   ],
   "source": [
    "from o9_common_utils.O9DataLake import O9DataLake, ResourceType, DataSource\n",
    "sales = O9DataLake.register(\"sales\",DataSource.LS, ResourceType.IBPL, _sales)"
   ]
  },
  {
   "cell_type": "code",
   "execution_count": 22,
   "id": "8319d488-cede-4fdd-afb3-2859e757dfd4",
   "metadata": {},
   "outputs": [
    {
     "name": "stdout",
     "output_type": "stream",
     "text": [
      "2023-01-05 08:51:04,435 : nitishjha_6316 :IbplClient: WebApi Request Url = [https://mygenieazure.o9solutions.com/api/ibplquery/6316/ExecuteCompactJsonQuery]\n",
      "2023-01-05 08:51:04,439 : nitishjha_6316 :Starting new HTTPS connection (1): mygenieazure.o9solutions.com:443\n",
      "2023-01-05 08:51:04,531 : nitishjha_6316 :https://mygenieazure.o9solutions.com:443 \"POST /api/ibplquery/6316/ExecuteCompactJsonQuery HTTP/1.1\" 200 None\n",
      "2023-01-05 08:51:09,542 : nitishjha_6316 :IbplClient: WebApi Request Url = [https://mygenieazure.o9solutions.com/api/ibplquery/6316/ExecuteCompactJsonQuery]\n",
      "2023-01-05 08:51:09,545 : nitishjha_6316 :Starting new HTTPS connection (1): mygenieazure.o9solutions.com:443\n",
      "2023-01-05 08:51:09,656 : nitishjha_6316 :https://mygenieazure.o9solutions.com:443 \"POST /api/ibplquery/6316/ExecuteCompactJsonQuery HTTP/1.1\" 200 None\n"
     ]
    }
   ],
   "source": [
    "sales = O9DataLake.get(\"sales\", sales)\n",
    "sales.head()\n",
    "output = sales.copy(deep=True)"
   ]
  },
  {
   "cell_type": "code",
   "execution_count": 23,
   "id": "d74333c3-4edf-4e64-9c3d-ffa4786badea",
   "metadata": {},
   "outputs": [
    {
     "name": "stdout",
     "output_type": "stream",
     "text": [
      "2023-01-05 08:51:21,631 : nitishjha_6316 :Starting new HTTPS connection (1): mygenieazure.o9solutions.com:443\n",
      "2023-01-05 08:51:21,713 : nitishjha_6316 :https://mygenieazure.o9solutions.com:443 \"GET /api/framework/sessions/session/authToken?authToken=nfdsnrnhqhsl2erhumhdxb4y HTTP/1.1\" 200 None\n",
      "2023-01-05 08:51:21,717 : nitishjha_6316 :Uploading LOCAL file: /tmp/tmpgrk3qt80/Fact.output.csv\n",
      "2023-01-05 08:51:21,718 : nitishjha_6316 :Is the file parquet: False\n",
      "2023-01-05 08:51:21,719 : nitishjha_6316 :Uploading /tmp/tmpgrk3qt80/Fact.output.csv to Live Server cloud\n",
      "2023-01-05 08:51:21,721 : nitishjha_6316 :File size less than 256 MB\n",
      "2023-01-05 08:51:21,721 : nitishjha_6316 :Uploading to /fileUpload endpoint\n",
      "2023-01-05 08:51:21,723 : nitishjha_6316 :Uploading /tmp/tmpgrk3qt80/Fact.output.csv to Live Server cloud\n",
      "2023-01-05 08:51:21,726 : nitishjha_6316 :Starting new HTTPS connection (1): mygenieazure.o9solutions.com:443\n",
      "2023-01-05 08:51:24,066 : nitishjha_6316 :https://mygenieazure.o9solutions.com:443 \"POST /api/upload/fileUpload HTTP/1.1\" 200 None\n",
      "2023-01-05 08:51:24,071 : nitishjha_6316 :Uploaded the file successfully\n",
      "2023-01-05 08:51:24,073 : nitishjha_6316 :Uploading cloud files at: \"azure://7YcJ7Xd5iUl7rbT6sGwXZyZFjgAz2pZjpyGjgqX2Aft-YPbUMcDHX5ei0q3MqrWD0\"\n",
      "2023-01-05 08:51:24,074 : nitishjha_6316 :IbplClient: WebApi Request Url = [https://mygenieazure.o9solutions.com/api/framework/sessions/session]\n",
      "2023-01-05 08:51:24,076 : nitishjha_6316 :Starting new HTTPS connection (1): mygenieazure.o9solutions.com:443\n",
      "2023-01-05 08:51:24,166 : nitishjha_6316 :https://mygenieazure.o9solutions.com:443 \"GET /api/framework/sessions/session HTTP/1.1\" 200 None\n",
      "2023-01-05 08:51:24,170 : nitishjha_6316 :logged into tenant HIveDemo52 successfully\n",
      "2023-01-05 08:51:24,170 : nitishjha_6316 :IbplClient: WebApi Request Url = [https://mygenieazure.o9solutions.com/api/user]\n",
      "2023-01-05 08:51:24,173 : nitishjha_6316 :Starting new HTTPS connection (1): mygenieazure.o9solutions.com:443\n",
      "2023-01-05 08:51:24,460 : nitishjha_6316 :https://mygenieazure.o9solutions.com:443 \"GET /api/user HTTP/1.1\" 200 None\n",
      "2023-01-05 08:51:24,467 : nitishjha_6316 :Starting new HTTPS connection (1): mygenieazure.o9solutions.com:443\n",
      "2023-01-05 08:51:24,576 : nitishjha_6316 :https://mygenieazure.o9solutions.com:443 \"GET /api/framework/sessions/session/authToken?authToken=nfdsnrnhqhsl2erhumhdxb4y HTTP/1.1\" 200 None\n",
      "2023-01-05 08:51:24,582 : nitishjha_6316 :Starting new HTTPS connection (1): mygenieazure.o9solutions.com:443\n",
      "2023-01-05 08:51:27,031 : nitishjha_6316 :https://mygenieazure.o9solutions.com:443 \"POST /api/ibplquery/6316/ExecuteQuery HTTP/1.1\" 200 None\n",
      "2023-01-05 08:51:27,035 : nitishjha_6316 :200, OK\n",
      "2023-01-05 08:51:27,036 : nitishjha_6316 :Response json:\n",
      "{\"Result\":\"[{\\\"FileName\\\":\\\"Fact.output.csv\\\",\\\"SheetName\\\":\\\"Fact.output.csv\\\",\\\"TotalRows\\\":1,\\\"ProcessedRows\\\":1,\\\"Status\\\":\\\"Success\\\",\\\"Messages\\\":[\\\"Total Rows: [1]. Successfully Processed Rows: [1].\\\"],\\\"FileId\\\":\\\"azure://7YcJ7Xd5iUl7rbT6sGwXZyZFjgAz2pZjpyGjgqX2Aft-YPbUMcDHX5ei0q3MqrWD0\\\"}]\",\"QueryGuid\":\"1a9cdfb7-a772-4e35-9431-e1550377ca99\",\"ImpactHeader\":{\"TenantId\":6316,\"TransactionId\":\"00000000-0000-0000-0000-000000000000\",\"UpdatedMembers\":null,\"CreatedMembers\":null,\"DeletedMembers\":null,\"ModelImpact\":{\"Sales Plan\":{\"TempMG\":[\"SalesVal\"]}}}}\n",
      "2023-01-05 08:51:27,037 : nitishjha_6316 :{'FileName': 'Fact.output.csv', 'SheetName': 'Fact.output.csv', 'TotalRows': 1, 'ProcessedRows': 1, 'Status': 'Success', 'Messages': ['Total Rows: [1]. Successfully Processed Rows: [1].'], 'FileId': 'azure://7YcJ7Xd5iUl7rbT6sGwXZyZFjgAz2pZjpyGjgqX2Aft-YPbUMcDHX5ei0q3MqrWD0'}\n"
     ]
    }
   ],
   "source": [
    "output[\"SalesVal\"] = 15\n",
    "\n",
    "O9DataLake.put(\"output\", output)"
   ]
  },
  {
   "cell_type": "code",
   "execution_count": null,
   "id": "c3d87957-91e8-4f78-aec4-8bf65f97001a",
   "metadata": {},
   "outputs": [],
   "source": []
  }
 ],
 "metadata": {
  "kernelspec": {
   "display_name": "[HIveDemo52] Tenant Conda Environment",
   "language": "python",
   "name": "genieaz_hivedemo52"
  },
  "language_info": {
   "codemirror_mode": {
    "name": "ipython",
    "version": 3
   },
   "file_extension": ".py",
   "mimetype": "text/x-python",
   "name": "python",
   "nbconvert_exporter": "python",
   "pygments_lexer": "ipython3",
   "version": "3.7.10"
  }
 },
 "nbformat": 4,
 "nbformat_minor": 5
}
