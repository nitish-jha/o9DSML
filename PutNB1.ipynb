{
 "cells": [
  {
   "cell_type": "code",
   "execution_count": 9,
   "id": "96a55067-8d94-43ce-94de-7c8fb94f8664",
   "metadata": {},
   "outputs": [],
   "source": [
    "_sales = \"Select ([Version].[Version Name] * [Department_Hive].[Department_ID_Hive] ) on row, ({Measure.[SalesVal]}) on column;\""
   ]
  },
  {
   "cell_type": "code",
   "execution_count": 10,
   "id": "52b49b49-dab4-4312-b5cd-988069c08556",
   "metadata": {},
   "outputs": [
    {
     "name": "stdout",
     "output_type": "stream",
     "text": [
      "2023-01-05 08:40:28,031 : nitishjha_6316 :IbplClient: WebApi Request Url = [https://mygenieazure.o9solutions.com/api/ibplquery/6316/ExecuteCompactJsonQuery]\n",
      "2023-01-05 08:40:28,035 : nitishjha_6316 :Starting new HTTPS connection (1): mygenieazure.o9solutions.com:443\n",
      "2023-01-05 08:40:28,161 : nitishjha_6316 :https://mygenieazure.o9solutions.com:443 \"POST /api/ibplquery/6316/ExecuteCompactJsonQuery HTTP/1.1\" 200 None\n",
      "2023-01-05 08:40:33,169 : nitishjha_6316 :IbplClient: WebApi Request Url = [https://mygenieazure.o9solutions.com/api/ibplquery/6316/ExecuteCompactJsonQuery]\n",
      "2023-01-05 08:40:33,173 : nitishjha_6316 :Starting new HTTPS connection (1): mygenieazure.o9solutions.com:443\n",
      "2023-01-05 08:40:33,270 : nitishjha_6316 :https://mygenieazure.o9solutions.com:443 \"POST /api/ibplquery/6316/ExecuteCompactJsonQuery HTTP/1.1\" 200 None\n"
     ]
    }
   ],
   "source": [
    "from o9_common_utils.O9DataLake import O9DataLake, ResourceType, DataSource\n",
    "sales = O9DataLake.register(\"sales\",DataSource.LS, ResourceType.IBPL, _sales)"
   ]
  },
  {
   "cell_type": "code",
   "execution_count": 11,
   "id": "8319d488-cede-4fdd-afb3-2859e757dfd4",
   "metadata": {},
   "outputs": [
    {
     "name": "stdout",
     "output_type": "stream",
     "text": [
      "2023-01-05 08:40:38,296 : nitishjha_6316 :IbplClient: WebApi Request Url = [https://mygenieazure.o9solutions.com/api/ibplquery/6316/ExecuteCompactJsonQuery]\n",
      "2023-01-05 08:40:38,300 : nitishjha_6316 :Starting new HTTPS connection (1): mygenieazure.o9solutions.com:443\n",
      "2023-01-05 08:40:38,394 : nitishjha_6316 :https://mygenieazure.o9solutions.com:443 \"POST /api/ibplquery/6316/ExecuteCompactJsonQuery HTTP/1.1\" 200 None\n",
      "2023-01-05 08:40:43,408 : nitishjha_6316 :IbplClient: WebApi Request Url = [https://mygenieazure.o9solutions.com/api/ibplquery/6316/ExecuteCompactJsonQuery]\n",
      "2023-01-05 08:40:43,412 : nitishjha_6316 :Starting new HTTPS connection (1): mygenieazure.o9solutions.com:443\n",
      "2023-01-05 08:40:43,495 : nitishjha_6316 :https://mygenieazure.o9solutions.com:443 \"POST /api/ibplquery/6316/ExecuteCompactJsonQuery HTTP/1.1\" 200 None\n"
     ]
    }
   ],
   "source": [
    "sales = O9DataLake.get(\"sales\", sales)\n",
    "sales.head()\n",
    "output = sales.copy(deep=True)"
   ]
  },
  {
   "cell_type": "code",
   "execution_count": 12,
   "id": "d74333c3-4edf-4e64-9c3d-ffa4786badea",
   "metadata": {},
   "outputs": [
    {
     "name": "stdout",
     "output_type": "stream",
     "text": [
      "2023-01-05 08:40:52,016 : nitishjha_6316 :Starting new HTTPS connection (1): mygenieazure.o9solutions.com:443\n",
      "2023-01-05 08:40:52,113 : nitishjha_6316 :https://mygenieazure.o9solutions.com:443 \"GET /api/framework/sessions/session/authToken?authToken=nfdsnrnhqhsl2erhumhdxb4y HTTP/1.1\" 200 None\n",
      "2023-01-05 08:40:52,118 : nitishjha_6316 :Uploading LOCAL file: /tmp/tmp6dnsughr/Fact.output.csv\n",
      "2023-01-05 08:40:52,119 : nitishjha_6316 :Is the file parquet: False\n",
      "2023-01-05 08:40:52,120 : nitishjha_6316 :Uploading /tmp/tmp6dnsughr/Fact.output.csv to Live Server cloud\n",
      "2023-01-05 08:40:52,121 : nitishjha_6316 :File size less than 256 MB\n",
      "2023-01-05 08:40:52,123 : nitishjha_6316 :Uploading to /fileUpload endpoint\n",
      "2023-01-05 08:40:52,124 : nitishjha_6316 :Uploading /tmp/tmp6dnsughr/Fact.output.csv to Live Server cloud\n",
      "2023-01-05 08:40:52,127 : nitishjha_6316 :Starting new HTTPS connection (1): mygenieazure.o9solutions.com:443\n",
      "2023-01-05 08:40:54,482 : nitishjha_6316 :https://mygenieazure.o9solutions.com:443 \"POST /api/upload/fileUpload HTTP/1.1\" 200 None\n",
      "2023-01-05 08:40:54,486 : nitishjha_6316 :Uploaded the file successfully\n",
      "2023-01-05 08:40:54,488 : nitishjha_6316 :Uploading cloud files at: \"azure://7YcJ7Xd5iUl7rbT6sGwXZyZFjgAz2pZjpyGjgqX2Aft-YPbUMcDHX5ei0q3MqrWD0\"\n",
      "2023-01-05 08:40:54,489 : nitishjha_6316 :IbplClient: WebApi Request Url = [https://mygenieazure.o9solutions.com/api/framework/sessions/session]\n",
      "2023-01-05 08:40:54,492 : nitishjha_6316 :Starting new HTTPS connection (1): mygenieazure.o9solutions.com:443\n",
      "2023-01-05 08:40:54,582 : nitishjha_6316 :https://mygenieazure.o9solutions.com:443 \"GET /api/framework/sessions/session HTTP/1.1\" 200 None\n",
      "2023-01-05 08:40:54,586 : nitishjha_6316 :logged into tenant HIveDemo52 successfully\n",
      "2023-01-05 08:40:54,587 : nitishjha_6316 :IbplClient: WebApi Request Url = [https://mygenieazure.o9solutions.com/api/user]\n",
      "2023-01-05 08:40:54,589 : nitishjha_6316 :Starting new HTTPS connection (1): mygenieazure.o9solutions.com:443\n",
      "2023-01-05 08:40:54,954 : nitishjha_6316 :https://mygenieazure.o9solutions.com:443 \"GET /api/user HTTP/1.1\" 200 None\n",
      "2023-01-05 08:40:54,961 : nitishjha_6316 :Starting new HTTPS connection (1): mygenieazure.o9solutions.com:443\n",
      "2023-01-05 08:40:55,063 : nitishjha_6316 :https://mygenieazure.o9solutions.com:443 \"GET /api/framework/sessions/session/authToken?authToken=nfdsnrnhqhsl2erhumhdxb4y HTTP/1.1\" 200 None\n",
      "2023-01-05 08:40:55,069 : nitishjha_6316 :Starting new HTTPS connection (1): mygenieazure.o9solutions.com:443\n",
      "2023-01-05 08:40:57,553 : nitishjha_6316 :https://mygenieazure.o9solutions.com:443 \"POST /api/ibplquery/6316/ExecuteQuery HTTP/1.1\" 200 None\n",
      "2023-01-05 08:40:57,557 : nitishjha_6316 :200, OK\n",
      "2023-01-05 08:40:57,558 : nitishjha_6316 :Response json:\n",
      "{\"Result\":\"[{\\\"FileName\\\":\\\"Fact.output.csv\\\",\\\"SheetName\\\":\\\"Fact.output.csv\\\",\\\"TotalRows\\\":1,\\\"ProcessedRows\\\":1,\\\"Status\\\":\\\"Success\\\",\\\"Messages\\\":[\\\"Total Rows: [1]. Successfully Processed Rows: [1].\\\"],\\\"FileId\\\":\\\"azure://7YcJ7Xd5iUl7rbT6sGwXZyZFjgAz2pZjpyGjgqX2Aft-YPbUMcDHX5ei0q3MqrWD0\\\"}]\",\"QueryGuid\":\"08b06b0d-2dca-41f9-84aa-41ff7b918751\",\"ImpactHeader\":{\"TenantId\":6316,\"TransactionId\":\"00000000-0000-0000-0000-000000000000\",\"UpdatedMembers\":null,\"CreatedMembers\":null,\"DeletedMembers\":null,\"ModelImpact\":{\"Sales Plan\":{\"TempMG\":[\"SalesVal\"]}}}}\n",
      "2023-01-05 08:40:57,559 : nitishjha_6316 :{'FileName': 'Fact.output.csv', 'SheetName': 'Fact.output.csv', 'TotalRows': 1, 'ProcessedRows': 1, 'Status': 'Success', 'Messages': ['Total Rows: [1]. Successfully Processed Rows: [1].'], 'FileId': 'azure://7YcJ7Xd5iUl7rbT6sGwXZyZFjgAz2pZjpyGjgqX2Aft-YPbUMcDHX5ei0q3MqrWD0'}\n"
     ]
    }
   ],
   "source": [
    "output[\"SalesVal\"] = 15\n",
    "\n",
    "O9DataLake.put(\"output\", output)"
   ]
  },
  {
   "cell_type": "code",
   "execution_count": null,
   "id": "c3d87957-91e8-4f78-aec4-8bf65f97001a",
   "metadata": {},
   "outputs": [],
   "source": []
  }
 ],
 "metadata": {
  "kernelspec": {
   "display_name": "[HIveDemo52] Tenant Conda Environment",
   "language": "python",
   "name": "genieaz_hivedemo52"
  },
  "language_info": {
   "codemirror_mode": {
    "name": "ipython",
    "version": 3
   },
   "file_extension": ".py",
   "mimetype": "text/x-python",
   "name": "python",
   "nbconvert_exporter": "python",
   "pygments_lexer": "ipython3",
   "version": "3.7.10"
  }
 },
 "nbformat": 4,
 "nbformat_minor": 5
}
