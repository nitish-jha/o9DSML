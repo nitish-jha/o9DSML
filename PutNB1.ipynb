{
 "cells": [
  {
   "cell_type": "code",
   "execution_count": 1,
   "id": "96a55067-8d94-43ce-94de-7c8fb94f8664",
   "metadata": {},
   "outputs": [],
   "source": [
    "_sales = \"Select ([Version].[Version Name] * [Department_Hive].[Department_ID_Hive] ) on row, ({Measure.[SalesVal]}) on column;\""
   ]
  },
  {
   "cell_type": "code",
   "execution_count": 2,
   "id": "52b49b49-dab4-4312-b5cd-988069c08556",
   "metadata": {},
   "outputs": [
    {
     "name": "stdout",
     "output_type": "stream",
     "text": [
      "2023-01-05 11:01:29,796 : nitishjha_6316 :IbplClient: WebApi Request Url = [https://mygenieazure.o9solutions.com/api/ibplquery/6316/ExecuteCompactJsonQuery]\n",
      "2023-01-05 11:01:29,800 : nitishjha_6316 :Starting new HTTPS connection (1): mygenieazure.o9solutions.com:443\n",
      "2023-01-05 11:01:29,899 : nitishjha_6316 :https://mygenieazure.o9solutions.com:443 \"POST /api/ibplquery/6316/ExecuteCompactJsonQuery HTTP/1.1\" 200 None\n",
      "2023-01-05 11:01:34,908 : nitishjha_6316 :IbplClient: WebApi Request Url = [https://mygenieazure.o9solutions.com/api/ibplquery/6316/ExecuteCompactJsonQuery]\n",
      "2023-01-05 11:01:34,912 : nitishjha_6316 :Starting new HTTPS connection (1): mygenieazure.o9solutions.com:443\n",
      "2023-01-05 11:01:35,021 : nitishjha_6316 :https://mygenieazure.o9solutions.com:443 \"POST /api/ibplquery/6316/ExecuteCompactJsonQuery HTTP/1.1\" 200 None\n"
     ]
    }
   ],
   "source": [
    "from o9_common_utils.O9DataLake import O9DataLake, ResourceType, DataSource\n",
    "sales = O9DataLake.register(\"sales\",DataSource.LS, ResourceType.IBPL, _sales)"
   ]
  },
  {
   "cell_type": "code",
   "execution_count": 3,
   "id": "8319d488-cede-4fdd-afb3-2859e757dfd4",
   "metadata": {},
   "outputs": [
    {
     "name": "stdout",
     "output_type": "stream",
     "text": [
      "2023-01-05 11:01:48,372 : nitishjha_6316 :IbplClient: WebApi Request Url = [https://mygenieazure.o9solutions.com/api/ibplquery/6316/ExecuteCompactJsonQuery]\n",
      "2023-01-05 11:01:48,375 : nitishjha_6316 :Starting new HTTPS connection (1): mygenieazure.o9solutions.com:443\n",
      "2023-01-05 11:01:48,451 : nitishjha_6316 :https://mygenieazure.o9solutions.com:443 \"POST /api/ibplquery/6316/ExecuteCompactJsonQuery HTTP/1.1\" 200 None\n",
      "2023-01-05 11:01:53,460 : nitishjha_6316 :IbplClient: WebApi Request Url = [https://mygenieazure.o9solutions.com/api/ibplquery/6316/ExecuteCompactJsonQuery]\n",
      "2023-01-05 11:01:53,464 : nitishjha_6316 :Starting new HTTPS connection (1): mygenieazure.o9solutions.com:443\n",
      "2023-01-05 11:01:53,568 : nitishjha_6316 :https://mygenieazure.o9solutions.com:443 \"POST /api/ibplquery/6316/ExecuteCompactJsonQuery HTTP/1.1\" 200 None\n"
     ]
    }
   ],
   "source": [
    "sales = O9DataLake.get(\"sales\", sales)\n",
    "sales.head(5)\n",
    "output = sales.copy(deep=True)"
   ]
  },
  {
   "cell_type": "code",
   "execution_count": 4,
   "id": "d74333c3-4edf-4e64-9c3d-ffa4786badea",
   "metadata": {},
   "outputs": [
    {
     "name": "stdout",
     "output_type": "stream",
     "text": [
      "2023-01-05 11:02:00,833 : nitishjha_6316 :Starting new HTTPS connection (1): mygenieazure.o9solutions.com:443\n",
      "2023-01-05 11:02:00,957 : nitishjha_6316 :https://mygenieazure.o9solutions.com:443 \"GET /api/framework/sessions/session/authToken?authToken=nfdsnrnhqhsl2erhumhdxb4y HTTP/1.1\" 200 None\n",
      "2023-01-05 11:02:00,961 : nitishjha_6316 :Uploading LOCAL file: /tmp/tmpt19fkwx7/Fact.output.csv\n",
      "2023-01-05 11:02:00,963 : nitishjha_6316 :Is the file parquet: False\n",
      "2023-01-05 11:02:00,964 : nitishjha_6316 :Uploading /tmp/tmpt19fkwx7/Fact.output.csv to Live Server cloud\n",
      "2023-01-05 11:02:00,965 : nitishjha_6316 :File size less than 256 MB\n",
      "2023-01-05 11:02:00,966 : nitishjha_6316 :Uploading to /fileUpload endpoint\n",
      "2023-01-05 11:02:00,966 : nitishjha_6316 :Uploading /tmp/tmpt19fkwx7/Fact.output.csv to Live Server cloud\n",
      "2023-01-05 11:02:00,971 : nitishjha_6316 :Starting new HTTPS connection (1): mygenieazure.o9solutions.com:443\n",
      "2023-01-05 11:02:03,326 : nitishjha_6316 :https://mygenieazure.o9solutions.com:443 \"POST /api/upload/fileUpload HTTP/1.1\" 200 None\n",
      "2023-01-05 11:02:03,329 : nitishjha_6316 :Uploaded the file successfully\n",
      "2023-01-05 11:02:03,331 : nitishjha_6316 :Uploading cloud files at: \"azure://7YcJ7Xd5iUl7rbT6sGwXZyZFjgAz2pZjpyGjgqX2Aft-YPbUMcDHX5ei0q3MqrWD0\"\n",
      "2023-01-05 11:02:03,333 : nitishjha_6316 :IbplClient: WebApi Request Url = [https://mygenieazure.o9solutions.com/api/framework/sessions/session]\n",
      "2023-01-05 11:02:03,335 : nitishjha_6316 :Starting new HTTPS connection (1): mygenieazure.o9solutions.com:443\n",
      "2023-01-05 11:02:03,495 : nitishjha_6316 :https://mygenieazure.o9solutions.com:443 \"GET /api/framework/sessions/session HTTP/1.1\" 200 None\n",
      "2023-01-05 11:02:03,500 : nitishjha_6316 :logged into tenant HIveDemo52 successfully\n",
      "2023-01-05 11:02:03,500 : nitishjha_6316 :IbplClient: WebApi Request Url = [https://mygenieazure.o9solutions.com/api/user]\n",
      "2023-01-05 11:02:03,503 : nitishjha_6316 :Starting new HTTPS connection (1): mygenieazure.o9solutions.com:443\n",
      "2023-01-05 11:02:04,580 : nitishjha_6316 :https://mygenieazure.o9solutions.com:443 \"GET /api/user HTTP/1.1\" 200 None\n",
      "2023-01-05 11:02:04,587 : nitishjha_6316 :Starting new HTTPS connection (1): mygenieazure.o9solutions.com:443\n",
      "2023-01-05 11:02:04,675 : nitishjha_6316 :https://mygenieazure.o9solutions.com:443 \"GET /api/framework/sessions/session/authToken?authToken=nfdsnrnhqhsl2erhumhdxb4y HTTP/1.1\" 200 None\n",
      "2023-01-05 11:02:04,681 : nitishjha_6316 :Starting new HTTPS connection (1): mygenieazure.o9solutions.com:443\n",
      "2023-01-05 11:02:07,205 : nitishjha_6316 :https://mygenieazure.o9solutions.com:443 \"POST /api/ibplquery/6316/ExecuteQuery HTTP/1.1\" 200 None\n",
      "2023-01-05 11:02:07,209 : nitishjha_6316 :200, OK\n",
      "2023-01-05 11:02:07,210 : nitishjha_6316 :Response json:\n",
      "{\"Result\":\"[{\\\"FileName\\\":\\\"Fact.output.csv\\\",\\\"SheetName\\\":\\\"Fact.output.csv\\\",\\\"TotalRows\\\":1,\\\"ProcessedRows\\\":1,\\\"Status\\\":\\\"Success\\\",\\\"Messages\\\":[\\\"Total Rows: [1]. Successfully Processed Rows: [1].\\\"],\\\"FileId\\\":\\\"azure://7YcJ7Xd5iUl7rbT6sGwXZyZFjgAz2pZjpyGjgqX2Aft-YPbUMcDHX5ei0q3MqrWD0\\\"}]\",\"QueryGuid\":\"1538ebd4-f661-46d4-b05f-b2ad31443274\",\"ImpactHeader\":{\"TenantId\":6316,\"TransactionId\":\"00000000-0000-0000-0000-000000000000\",\"UpdatedMembers\":null,\"CreatedMembers\":null,\"DeletedMembers\":null,\"ModelImpact\":{\"Sales Plan\":{\"TempMG\":[\"SalesVal\"]}}}}\n",
      "2023-01-05 11:02:07,211 : nitishjha_6316 :{'FileName': 'Fact.output.csv', 'SheetName': 'Fact.output.csv', 'TotalRows': 1, 'ProcessedRows': 1, 'Status': 'Success', 'Messages': ['Total Rows: [1]. Successfully Processed Rows: [1].'], 'FileId': 'azure://7YcJ7Xd5iUl7rbT6sGwXZyZFjgAz2pZjpyGjgqX2Aft-YPbUMcDHX5ei0q3MqrWD0'}\n"
     ]
    }
   ],
   "source": [
    "output[\"SalesVal\"] = 15\n",
    "\n",
    "O9DataLake.put(\"output\", output)"
   ]
  },
  {
   "cell_type": "code",
   "execution_count": null,
   "id": "c3d87957-91e8-4f78-aec4-8bf65f97001a",
   "metadata": {},
   "outputs": [],
   "source": []
  }
 ],
 "metadata": {
  "kernelspec": {
   "display_name": "[HIveDemo52] Tenant Conda Environment",
   "language": "python",
   "name": "genieaz_hivedemo52"
  },
  "language_info": {
   "codemirror_mode": {
    "name": "ipython",
    "version": 3
   },
   "file_extension": ".py",
   "mimetype": "text/x-python",
   "name": "python",
   "nbconvert_exporter": "python",
   "pygments_lexer": "ipython3",
   "version": "3.7.10"
  },
  "notebook_dict": {
   "ClassName": "o9.GraphCube.Plugins.Python.PythonScript",
   "InstanceName": "PutNB1",
   "SliceKeys": [
    {
     "AttributeName": "Version Name",
     "DimensionName": "Version"
    }
   ],
   "file_path": "loaded_notebooks/PutNB1.ipynb",
   "o9_selected_plugin_id": 246496
  }
 },
 "nbformat": 4,
 "nbformat_minor": 5
}
